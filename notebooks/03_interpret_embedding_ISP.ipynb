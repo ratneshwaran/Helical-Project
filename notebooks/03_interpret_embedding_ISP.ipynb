{
  "cells": [
    {
      "cell_type": "markdown",
      "metadata": {},
      "source": [
        "# Task 3 (ISP): Interpret Cosine Shifts from Geneformer InSilicoPerturber\n",
        "\n",
        "Aggregates cosine-similarity outputs written by ISP and ranks perturbations.\n",
        "\n"
      ]
    },
    {
      "cell_type": "code",
      "execution_count": null,
      "metadata": {},
      "outputs": [],
      "source": [
        "# Locate ISP outputs and list files\n",
        "from pathlib import Path\n",
        "import sys, os, pickle\n",
        "import numpy as np\n",
        "import pandas as pd\n",
        "repo_root = Path.cwd().parent\n",
        "DATA_DIR = repo_root / 'als-perturb-geneformer' / 'als-perturb-geneformer' / 'data'\n",
        "ISP_DIR = DATA_DIR / 'isp'\n",
        "print('ISP dir:', ISP_DIR)\n",
        "print('ALS_down files:', sorted((ISP_DIR/'als_down').glob('*'))[:5], '...')\n",
        "print('Healthy_up files:', sorted((ISP_DIR/'healthy_up').glob('*'))[:5], '...')\n",
        "\n"
      ]
    },
    {
      "cell_type": "code",
      "execution_count": null,
      "metadata": {},
      "outputs": [],
      "source": [
        "# Aggregate cosine similarity dictionaries written by ISP\n",
        "import re\n",
        "from collections import defaultdict\n",
        "\n",
        "def read_pickles(dir_path: Path):\n",
        "    vals = []\n",
        "    for f in sorted(dir_path.glob('*.pkl')):\n",
        "        try:\n",
        "            with open(f, 'rb') as fh:\n",
        "                vals.append(pickle.load(fh))\n",
        "        except Exception:\n",
        "            pass\n",
        "    return vals\n",
        "\n",
        "# Heuristic: accumulate mean of values under keys that end with ('cell_emb')\n",
        "# ISP writes dicts keyed like (gene(s), 'cell_emb') -> list[float]\n",
        "\n",
        "def aggregate_cell_emb_cosines(pkls):\n",
        "    agg = defaultdict(list)\n",
        "    for d in pkls:\n",
        "        for k, v in d.items():\n",
        "            if isinstance(k, tuple) and len(k) == 2 and k[1] == 'cell_emb':\n",
        "                arr = np.array(v, dtype=float)\n",
        "                if arr.size > 0:\n",
        "                    agg[k[0]].append(arr.mean())\n",
        "    out = []\n",
        "    for k, arrs in agg.items():\n",
        "        out.append({'perturbed': str(k), 'mean_cosine': float(np.mean(arrs))})\n",
        "    return pd.DataFrame(out)\n",
        "\n",
        "als_pkls = read_pickles(ISP_DIR/'als_down')\n",
        "h_pkls = read_pickles(ISP_DIR/'healthy_up')\n",
        "als_df = aggregate_cell_emb_cosines(als_pkls)\n",
        "h_df = aggregate_cell_emb_cosines(h_pkls)\n",
        "\n",
        "# Lower cosine (further from original) indicates larger shift; sign is directional-less here\n",
        "als_df = als_df.sort_values('mean_cosine')\n",
        "h_df = h_df.sort_values('mean_cosine')\n",
        "\n",
        "print('ALS_down (lower cosine = bigger change):')\n",
        "display(als_df.head(10))\n",
        "print('\\nHealthy_up (lower cosine = bigger change):')\n",
        "display(h_df.head(10))\n",
        "\n"
      ]
    }
  ],
  "metadata": {
    "language_info": {
      "name": "python"
    }
  },
  "nbformat": 4,
  "nbformat_minor": 2
}
