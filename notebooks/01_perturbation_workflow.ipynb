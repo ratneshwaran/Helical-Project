{
  "cells": [
    {
      "cell_type": "markdown",
      "metadata": {},
      "source": [
        "# Task 1: In-Silico Perturbation Workflow\n",
        "\n",
        "- Rank-based swaps (`knock_rank`)\n",
        "- Expression-based multiplicative change with optional propagation (`knock_expr`)"
      ]
    },
    {
      "cell_type": "code",
      "execution_count": 1,
      "metadata": {},
      "outputs": [
        {
          "name": "stdout",
          "output_type": "stream",
          "text": [
            "Added to sys.path: /cs/student/projects1/aibh/2024/rmaheswa/Helical_Task/als-perturb-geneformer\n"
          ]
        }
      ],
      "source": [
        "# Ensure repo root is on sys.path for `utils` imports\n",
        "from pathlib import Path\n",
        "import sys\n",
        "repo_root = Path.cwd().parent\n",
        "if str(repo_root) not in sys.path:\n",
        "    sys.path.insert(0, str(repo_root))\n",
        "print('Added to sys.path:', repo_root)\n"
      ]
    },
    {
      "cell_type": "code",
      "execution_count": 2,
      "metadata": {},
      "outputs": [],
      "source": [
        "import os\n",
        "os.environ[\"PIP_CACHE_DIR\"] = \"/cs/student/projects1/aibh/2024/rmaheswa/cache\"\n",
        "os.environ[\"HF_HOME\"] = \"/cs/student/projects1/aibh/2024/rmaheswa/cache/huggingface\"\n",
        "os.environ[\"TRANSFORMERS_CACHE\"] = \"/cs/student/projects1/aibh/2024/rmaheswa/cache/transformers\""
      ]
    },
    {
      "cell_type": "code",
      "execution_count": 3,
      "metadata": {},
      "outputs": [
        {
          "name": "stdout",
          "output_type": "stream",
          "text": [
            "If baseline.h5ad is not present, run: make prep\n"
          ]
        }
      ],
      "source": [
        "# Intro & setup\n",
        "from pathlib import Path\n",
        "import logging\n",
        "import numpy as np\n",
        "import scanpy as sc\n",
        "\n",
        "from utils.io import ensure_dirs, read_raw, write_adata\n",
        "from utils.perturb import knock_rank, knock_expr\n",
        "\n",
        "logging.basicConfig(level=logging.INFO)\n",
        "np.random.seed(42)\n",
        "\n",
        "ensure_dirs()\n",
        "\n",
        "RAW_DIR = Path('/cs/student/projects1/aibh/2024/rmaheswa/Helical_Task/als-perturb-geneformer/als-perturb-geneformer/data/raw')\n",
        "AD_DIR = Path('/cs/student/projects1/aibh/2024/rmaheswa/Helical_Task/als-perturb-geneformer/als-perturb-geneformer/data/adata')\n",
        "FIG_DIR = Path('/cs/student/projects1/aibh/2024/rmaheswa/Helical_Task/als-perturb-geneformer/als-perturb-geneformer/data/figs')\n",
        "\n",
        "AD_DIR.mkdir(parents=True, exist_ok=True)\n",
        "FIG_DIR.mkdir(parents=True, exist_ok=True)\n",
        "\n",
        "print('If baseline.h5ad is not present, run: make prep')\n"
      ]
    },
    {
      "cell_type": "code",
      "execution_count": 4,
      "metadata": {},
      "outputs": [
        {
          "name": "stdout",
          "output_type": "stream",
          "text": [
            "Loaded AnnData: 112014 cells, 22026 genes\n",
            "Subsetting to first 1000 cells for testing...\n",
            "Subset AnnData: 1000 cells, 22026 genes\n"
          ]
        },
        {
          "data": {
            "text/plain": [
              "AnnData object with n_obs × n_vars = 1000 × 22026\n",
              "    obs: 'Sample_ID', 'Donor', 'Region', 'Sex', 'Condition', 'Group', 'C9_pos', 'CellClass', 'CellType', 'SubType', 'full_label', 'DGE_Group', 'Bakken_M1', 'data_merge_id', 'data_sample_id', 'n_genes_by_counts', 'log1p_n_genes_by_counts', 'total_counts', 'log1p_total_counts', 'Cellstates_LVL1', 'Cellstates_LVL2', 'Cellstates_LVL3', 'total_counts_mt', 'log1p_total_counts_mt', 'pct_counts_mt', 'n_genes', 'split'\n",
              "    var: 'Biotype', 'Chromosome', 'n_cells_by_counts', 'mean_counts', 'log1p_mean_counts', 'pct_dropout_by_counts', 'total_counts', 'log1p_total_counts', 'ENSID', 'mt', 'n_cells', 'biotype', 'gene_symbol'\n",
              "    uns: 'log1p'\n",
              "    layers: 'counts'"
            ]
          },
          "execution_count": 4,
          "metadata": {},
          "output_type": "execute_result"
        }
      ],
      "source": [
        "# Load baseline\n",
        "from pathlib import Path\n",
        "import anndata as ad\n",
        "\n",
        "baseline_path = AD_DIR / 'baseline.h5ad'\n",
        "if not baseline_path.exists():\n",
        "    raise FileNotFoundError(\"Missing data/adata/baseline.h5ad. Please run: make prep\")\n",
        "\n",
        "adata = ad.read_h5ad(baseline_path)\n",
        "print(f\"Loaded AnnData: {adata.n_obs} cells, {adata.n_vars} genes\")\n",
        "\n",
        "# Test with a smaller subset to avoid kernel crashes\n",
        "print(\"Subsetting to first 1000 cells for testing...\")\n",
        "adata = adata[:1000].copy()\n",
        "print(f\"Subset AnnData: {adata.n_obs} cells, {adata.n_vars} genes\")\n",
        "adata\n"
      ]
    },
    {
      "cell_type": "code",
      "execution_count": 5,
      "metadata": {},
      "outputs": [
        {
          "name": "stdout",
          "output_type": "stream",
          "text": [
            "Testing with gene: TSPAN6\n",
            "Creating rank-up perturbation...\n"
          ]
        },
        {
          "name": "stderr",
          "output_type": "stream",
          "text": [
            "/tmp/ipykernel_2334960/3992818746.py:4: FutureWarning: Series.__getitem__ treating keys as positions is deprecated. In a future version, integer keys will always be treated as labels (consistent with DataFrame behavior). To access a value by position, use `ser.iloc[pos]`\n",
            "  gene_demo = [adata.var['gene_symbol'][0]] if adata.n_vars > 0 else ['G0']\n"
          ]
        },
        {
          "name": "stdout",
          "output_type": "stream",
          "text": [
            "Creating rank-down perturbation...\n",
            "Rank-mode demo complete.\n"
          ]
        },
        {
          "data": {
            "text/plain": [
              "1367"
            ]
          },
          "execution_count": 5,
          "metadata": {},
          "output_type": "execute_result"
        }
      ],
      "source": [
        "# Demonstrate rank-mode perturbation (single-gene up/down)\n",
        "import gc\n",
        "\n",
        "gene_demo = [adata.var['gene_symbol'][0]] if adata.n_vars > 0 else ['G0']\n",
        "print(f\"Testing with gene: {gene_demo[0]}\")\n",
        "\n",
        "print(\"Creating rank-up perturbation...\")\n",
        "adata_rank_up = knock_rank(adata, genes=gene_demo, direction='up', delta_percentile=0.15)\n",
        "\n",
        "print(\"Creating rank-down perturbation...\")\n",
        "adata_rank_down = knock_rank(adata, genes=gene_demo, direction='down', delta_percentile=0.15)\n",
        "\n",
        "# Validate bounds\n",
        "ranks = adata_rank_up.obsm['rank_matrix']\n",
        "assert ranks is None or (ranks.min() >= 0 and ranks.max() < adata.n_vars)\n",
        "\n",
        "print('Rank-mode demo complete.')\n",
        "gc.collect()  # Force garbage collection\n"
      ]
    },
    {
      "cell_type": "code",
      "execution_count": 6,
      "metadata": {},
      "outputs": [
        {
          "name": "stdout",
          "output_type": "stream",
          "text": [
            "Creating single-gene expression perturbation...\n",
            "✓ Library size preserved\n",
            "Creating multi-gene expression perturbation...\n",
            "Multi-gene test with: ['TSPAN6', 'TNMD', 'DPM1', 'SCYL3', 'FGR']\n",
            "Expression-mode demo complete.\n"
          ]
        },
        {
          "data": {
            "text/plain": [
              "0"
            ]
          },
          "execution_count": 6,
          "metadata": {},
          "output_type": "execute_result"
        }
      ],
      "source": [
        "# Demonstrate expression-mode perturbation (single & multi-gene)\n",
        "import numpy as np\n",
        "\n",
        "print(\"Creating single-gene expression perturbation...\")\n",
        "# Single gene up-regulation without propagation\n",
        "adata_expr_up = knock_expr(adata, genes=gene_demo, direction='up', log2fc=1.0, propagate=False)\n",
        "\n",
        "# Library size preserved\n",
        "lib_before = np.array(adata.layers['counts'].sum(axis=1)).flatten()\n",
        "lib_after = np.array(adata_expr_up.X.sum(axis=1)).flatten()\n",
        "np.testing.assert_allclose(lib_before, lib_after, rtol=1e-5, atol=1e-5)\n",
        "print(\"✓ Library size preserved\")\n",
        "\n",
        "print(\"Creating multi-gene expression perturbation...\")\n",
        "# Multi-gene with propagation\n",
        "multi_genes = list(adata.var['gene_symbol'][:5])\n",
        "print(f\"Multi-gene test with: {multi_genes}\")\n",
        "adata_expr_multi = knock_expr(adata, genes=multi_genes, direction='down', log2fc=0.5, propagate=True, k_neighbors=20)\n",
        "\n",
        "print('Expression-mode demo complete.')\n",
        "gc.collect()  # Force garbage collection\n"
      ]
    },
    {
      "cell_type": "code",
      "execution_count": 7,
      "metadata": {},
      "outputs": [
        {
          "name": "stdout",
          "output_type": "stream",
          "text": [
            "Saved perturbed AnnData files.\n"
          ]
        }
      ],
      "source": [
        "# Save perturbed outputs\n",
        "from utils.io import write_adata\n",
        "\n",
        "write_adata(adata_rank_up, AD_DIR / 'pert_rank_up.h5ad')\n",
        "write_adata(adata_rank_down, AD_DIR / 'pert_rank_down.h5ad')\n",
        "write_adata(adata_expr_up, AD_DIR / 'pert_expr_single_up.h5ad')\n",
        "write_adata(adata_expr_multi, AD_DIR / 'pert_expr_multi_down.h5ad')\n",
        "print('Saved perturbed AnnData files.')\n"
      ]
    },
    {
      "cell_type": "code",
      "execution_count": 8,
      "metadata": {},
      "outputs": [
        {
          "name": "stdout",
          "output_type": "stream",
          "text": [
            "Saved figure to /cs/student/projects1/aibh/2024/rmaheswa/Helical_Task/als-perturb-geneformer/als-perturb-geneformer/data/figs/task1_workflow.png\n"
          ]
        }
      ],
      "source": [
        "# Export simple workflow schematic figure\n",
        "import matplotlib.pyplot as plt\n",
        "import seaborn as sns\n",
        "\n",
        "plt.figure(figsize=(6,3))\n",
        "plt.text(0.05, 0.6, 'Raw counts', fontsize=12)\n",
        "plt.arrow(0.2, 0.6, 0.2, 0.0, head_width=0.02, length_includes_head=True)\n",
        "plt.text(0.42, 0.6, 'QC + norm', fontsize=12)\n",
        "plt.arrow(0.57, 0.6, 0.2, 0.0, head_width=0.02, length_includes_head=True)\n",
        "plt.text(0.79, 0.6, 'Perturb\\n(rank/expr)', fontsize=12)\n",
        "plt.axis('off')\n",
        "plt.tight_layout()\n",
        "plt.savefig(FIG_DIR / 'task1_workflow.png', dpi=200)\n",
        "plt.close()\n",
        "\n",
        "print('Saved figure to /cs/student/projects1/aibh/2024/rmaheswa/Helical_Task/als-perturb-geneformer/als-perturb-geneformer/data/figs/task1_workflow.png')\n"
      ]
    }
  ],
  "metadata": {
    "kernelspec": {
      "display_name": "helical-env",
      "language": "python",
      "name": "python3"
    },
    "language_info": {
      "codemirror_mode": {
        "name": "ipython",
        "version": 3
      },
      "file_extension": ".py",
      "mimetype": "text/x-python",
      "name": "python",
      "nbconvert_exporter": "python",
      "pygments_lexer": "ipython3",
      "version": "3.9.21"
    }
  },
  "nbformat": 4,
  "nbformat_minor": 2
}
