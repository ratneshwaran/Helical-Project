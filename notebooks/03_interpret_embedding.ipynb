{
  "cells": [
    {
      "cell_type": "markdown",
      "metadata": {},
      "source": [
        "# Task 3: Interpret the Embedding Space\n",
        "\n"
      ]
    },
    {
      "cell_type": "code",
      "execution_count": null,
      "metadata": {},
      "outputs": [],
      "source": [
        "# Ensure repo root is on sys.path for `utils` imports\n",
        "from pathlib import Path\n",
        "import sys\n",
        "repo_root = Path.cwd().parent\n",
        "if str(repo_root) not in sys.path:\n",
        "    sys.path.insert(0, str(repo_root))\n",
        "print('Added to sys.path:', repo_root)\n"
      ]
    },
    {
      "cell_type": "code",
      "execution_count": null,
      "metadata": {},
      "outputs": [],
      "source": [
        "import os\n",
        "os.environ[\"PIP_CACHE_DIR\"] = \"/cs/student/projects1/aibh/2024/rmaheswa/cache\"\n",
        "os.environ[\"HF_HOME\"] = \"/cs/student/projects1/aibh/2024/rmaheswa/cache/huggingface\"\n",
        "os.environ[\"TRANSFORMERS_CACHE\"] = \"/cs/student/projects1/aibh/2024/rmaheswa/cache/transformers\""
      ]
    },
    {
      "cell_type": "code",
      "execution_count": null,
      "metadata": {},
      "outputs": [],
      "source": [
        "from pathlib import Path\n",
        "import numpy as np\n",
        "import pandas as pd\n",
        "\n",
        "from utils.metrics import (\n",
        "    centroid, delta_to_healthy, wasserstein1d_along_pc, knn_overlap_fraction,\n",
        "    silhouette_scores_by_label, composite_score\n",
        ")\n",
        "from utils.plotting import umap_2d, plot_umap, plot_centroid_shifts\n",
        "\n",
        "# Use absolute paths matching Task 2 outputs\n",
        "EMB_DIR = Path('/cs/student/projects1/aibh/2024/rmaheswa/Helical_Task/als-perturb-geneformer/als-perturb-geneformer/data/embeddings')\n",
        "FIG_DIR = Path('/cs/student/projects1/aibh/2024/rmaheswa/Helical_Task/als-perturb-geneformer/als-perturb-geneformer/data/figs')\n",
        "FIG_DIR.mkdir(parents=True, exist_ok=True)\n",
        "\n",
        "# Load embeddings saved in Task 2\n",
        "healthy_path = EMB_DIR / 'healthy_base.npz'\n",
        "als_path = EMB_DIR / 'als_base.npz'\n",
        "if not (healthy_path.exists() and als_path.exists()):\n",
        "    raise FileNotFoundError(\"Missing healthy_base.npz or als_base.npz. Run notebook 02 first.\")\n",
        "\n",
        "healthy = np.load(healthy_path)['arr']\n",
        "als = np.load(als_path)['arr']\n",
        "\n",
        "# Load perturbation embeddings\n",
        "pert_embeddings = {}\n",
        "for p in sorted(EMB_DIR.glob('healthy_*_up.npz')):\n",
        "    pert_embeddings[p.stem.replace('healthy_', '')] = np.load(p)['arr']\n",
        "for p in sorted(EMB_DIR.glob('als_*_down.npz')):\n",
        "    pert_embeddings[p.stem.replace('als_', '')] = np.load(p)['arr']\n",
        "\n",
        "# Metrics\n",
        "rows = []\n",
        "for name, emb_als_pert in pert_embeddings.items():\n",
        "    d_health = delta_to_healthy(als, emb_als_pert, healthy)\n",
        "    w1d = wasserstein1d_along_pc(als, healthy)\n",
        "    w1d_after = wasserstein1d_along_pc(emb_als_pert, healthy)\n",
        "    knn_gain = knn_overlap_fraction(healthy, emb_als_pert, k=15) - knn_overlap_fraction(healthy, als, k=15)\n",
        "    sil_base = silhouette_scores_by_label(np.vstack([healthy, als]), ['healthy']*len(healthy)+['als']*len(als))\n",
        "    sil_after = silhouette_scores_by_label(np.vstack([healthy, emb_als_pert]), ['healthy']*len(healthy)+['als_pert']*len(emb_als_pert))\n",
        "    rows.append({\n",
        "        'perturbation': name,\n",
        "        'delta_to_healthy': d_health,\n",
        "        'wasserstein_before': w1d,\n",
        "        'wasserstein_after': w1d_after,\n",
        "        'knn_overlap_gain': knn_gain,\n",
        "        'silhouette_before': sil_base,\n",
        "        'silhouette_after': sil_after,\n",
        "    })\n",
        "\n",
        "metrics_df = pd.DataFrame(rows)\n",
        "metrics_df.to_csv(FIG_DIR / 'task3_metrics.csv', index=False)\n",
        "\n",
        "print(\"✓ Metrics computed and saved to:\", FIG_DIR / 'task3_metrics.csv')\n"
      ]
    },
    {
      "cell_type": "code",
      "execution_count": null,
      "metadata": {},
      "outputs": [],
      "source": [
        "# Visualizations\n",
        "# UMAP of pooled sets\n",
        "pool = [healthy, als] + list(pert_embeddings.values())\n",
        "labels = (['healthy']*len(healthy) + ['als']*len(als) +\n",
        "          sum([[k]*len(v) for k,v in pert_embeddings.items()], []))\n",
        "X = np.vstack(pool)\n",
        "pts = umap_2d(X)\n",
        "plot_umap(pts, labels, 'Task3: UMAP pooled', str(FIG_DIR / 'task3_umap.png'))\n",
        "\n",
        "# Centroid shifts plot\n",
        "plot_centroid_shifts(healthy, als, pert_embeddings, 'Task3: Centroid shifts', str(FIG_DIR / 'task3_centroid_shifts.png'))\n",
        "\n",
        "print(\"✓ Visualization figures saved to:\", FIG_DIR)\n"
      ]
    },
    {
      "cell_type": "code",
      "execution_count": null,
      "metadata": {},
      "outputs": [],
      "source": [
        "# Display interpretation figures\n",
        "from IPython.display import Image, display\n",
        "import matplotlib.pyplot as plt\n",
        "\n",
        "figures = {\n",
        "    'UMAP visualization': FIG_DIR / 'task3_umap.png',\n",
        "    'Centroid shifts': FIG_DIR / 'task3_centroid_shifts.png'\n",
        "}\n",
        "\n",
        "for name, path in figures.items():\n",
        "    if path.exists():\n",
        "        print(f\"\\n📊 {name}:\")\n",
        "        display(Image(str(path)))\n",
        "    else:\n",
        "        print(f\"⚠️  {name} not found at: {path}\")\n",
        "\n",
        "# Display metrics table\n",
        "print(\"\\n📊 Task 3 Metrics:\")\n",
        "display(metrics_df)\n",
        "\n"
      ]
    }
  ],
  "metadata": {
    "kernelspec": {
      "display_name": ".venv-gf310",
      "language": "python",
      "name": "python3"
    },
    "language_info": {
      "name": "python",
      "version": "3.10.19"
    }
  },
  "nbformat": 4,
  "nbformat_minor": 2
}
