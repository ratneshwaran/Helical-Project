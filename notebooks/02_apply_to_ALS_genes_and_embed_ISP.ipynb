{
  "cells": [
    {
      "cell_type": "markdown",
      "metadata": {},
      "source": [
        "# Task 2 (ISP): Apply Perturbations with Geneformer InSilicoPerturber\n",
        "\n",
        "This optional variant uses Geneformer's native InSilicoPerturber (ISP) to quantify cosine-similarity shifts in CLS embeddings.\n",
        "\n"
      ]
    },
    {
      "cell_type": "code",
      "execution_count": null,
      "metadata": {},
      "outputs": [],
      "source": [
        "# Setup paths\n",
        "from pathlib import Path\n",
        "import sys, os\n",
        "repo_root = Path.cwd().parent\n",
        "if str(repo_root) not in sys.path:\n",
        "    sys.path.insert(0, str(repo_root))\n",
        "\n",
        "DATA_DIR = repo_root / 'als-perturb-geneformer' / 'als-perturb-geneformer' / 'data'\n",
        "AD_DIR = DATA_DIR / 'adata'\n",
        "ISP_DIR = DATA_DIR / 'isp'\n",
        "ISP_DIR.mkdir(parents=True, exist_ok=True)\n",
        "\n",
        "print('Repo root:', repo_root)\n",
        "print('AnnData dir:', AD_DIR)\n",
        "print('ISP out dir:', ISP_DIR)\n",
        "\n"
      ]
    },
    {
      "cell_type": "code",
      "execution_count": null,
      "metadata": {},
      "outputs": [],
      "source": [
        "# Imports and model/tokenizer mapping\n",
        "import numpy as np\n",
        "import anndata as ad\n",
        "import pickle\n",
        "from geneformer import TranscriptomeTokenizer, InSilicoPerturber, ENSEMBL_DICTIONARY_FILE\n",
        "\n",
        "# Map ALS symbols to Ensembl IDs\n",
        "ALS_GENES = [\"C9orf72\",\"SOD1\",\"TARDBP\",\"FUS\",\"TBK1\",\"NEK1\"]\n",
        "with open(ENSEMBL_DICTIONARY_FILE, 'rb') as f:\n",
        "    name_to_id = pickle.load(f)\n",
        "name_to_id = {str(k).upper(): v for k, v in name_to_id.items()}\n",
        "ALS_ENSEMBL = [name_to_id.get(g.upper()) or g for g in ALS_GENES]\n",
        "print('ALS genes (Ensembl):', ALS_ENSEMBL)\n",
        "\n"
      ]
    },
    {
      "cell_type": "code",
      "execution_count": null,
      "metadata": {},
      "outputs": [],
      "source": [
        "# Tokenize baseline.h5ad to a Geneformer Dataset with metadata 'Condition'\n",
        "from pathlib import Path\n",
        "baseline_path = AD_DIR / 'baseline.h5ad'\n",
        "if not baseline_path.exists():\n",
        "    raise FileNotFoundError('Missing baseline.h5ad in data/adata')\n",
        "\n",
        "# Use Tokenizer to write a small tokenized dataset for ISP\n",
        "# Keep a small subset by providing max_ncells later in ISP\n",
        "TOKENIZED_DIR = ISP_DIR / 'tokenized.dataset'\n",
        "if TOKENIZED_DIR.exists():\n",
        "    print('Tokenized dataset exists at:', TOKENIZED_DIR)\n",
        "else:\n",
        "    tk = TranscriptomeTokenizer(custom_attr_name_dict={\"Condition\":\"Condition\"}, model_version='V2')\n",
        "    # Use tokenizer's anndata path; create datasets and save\n",
        "    cells, meta, counts = tk.tokenize_anndata(baseline_path, file_format='h5ad')\n",
        "    ds = tk.create_dataset(cells, meta, counts, use_generator=False)\n",
        "    ds.save_to_disk(str(TOKENIZED_DIR))\n",
        "    print('Saved tokenized dataset to:', TOKENIZED_DIR)\n",
        "\n"
      ]
    },
    {
      "cell_type": "code",
      "execution_count": null,
      "metadata": {},
      "outputs": [],
      "source": [
        "# Run ISP: ALS_down (simulate knock-down via delete)\n",
        "from geneformer import InSilicoPerturper\n",
        "from geneformer import InSilicoPerturber\n",
        "\n",
        "isp_out_als = ISP_DIR / 'als_down'\n",
        "isp_out_als.mkdir(exist_ok=True)\n",
        "\n",
        "isp = InSilicoPerturber(\n",
        "    perturb_type='delete',\n",
        "    genes_to_perturb=ALS_ENSEMBL,\n",
        "    model_type='Pretrained',\n",
        "    emb_mode='cls',\n",
        "    filter_data={\"Condition\":[\"ALS\"]},\n",
        "    max_ncells=2000,\n",
        "    model_version='V2',\n",
        "    nproc=8,\n",
        ")\n",
        "\n",
        "isp.perturb_data(\n",
        "    model_directory='ctheodoris/Geneformer',\n",
        "    input_data_file=str(TOKENIZED_DIR),\n",
        "    output_directory=str(isp_out_als),\n",
        "    output_prefix='als_down',\n",
        ")\n",
        "print('ALS_down ISP complete →', isp_out_als)\n",
        "\n"
      ]
    },
    {
      "cell_type": "code",
      "execution_count": null,
      "metadata": {},
      "outputs": [],
      "source": [
        "# Run ISP: Healthy_up (simulate knock-up via overexpress)\n",
        "isp_out_h = ISP_DIR / 'healthy_up'\n",
        "isp_out_h.mkdir(exist_ok=True)\n",
        "\n",
        "isp_h = InSilicoPerturber(\n",
        "    perturb_type='overexpress',\n",
        "    genes_to_perturb=ALS_ENSEMBL,\n",
        "    model_type='Pretrained',\n",
        "    emb_mode='cls',\n",
        "    filter_data={\"Condition\":[\"PN\"]},\n",
        "    max_ncells=2000,\n",
        "    model_version='V2',\n",
        "    nproc=8,\n",
        ")\n",
        "\n",
        "isp_h.perturb_data(\n",
        "    model_directory='ctheodoris/Geneformer',\n",
        "    input_data_file=str(TOKENIZED_DIR),\n",
        "    output_directory=str(isp_out_h),\n",
        "    output_prefix='healthy_up',\n",
        ")\n",
        "print('Healthy_up ISP complete →', isp_out_h)\n",
        "\n"
      ]
    }
  ],
  "metadata": {
    "language_info": {
      "name": "python"
    }
  },
  "nbformat": 4,
  "nbformat_minor": 2
}
